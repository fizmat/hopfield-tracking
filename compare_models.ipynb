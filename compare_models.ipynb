{
 "cells": [
  {
   "cell_type": "code",
   "execution_count": null,
   "id": "84a876c0-381b-4372-88af-922c36a927cd",
   "metadata": {},
   "outputs": [],
   "source": [
    "import numpy as np\n",
    "import pandas as pd\n",
    "from ConfigSpace import ConfigurationSpace, Configuration\n",
    "from smac import MultiFidelityFacade, Scenario\n",
    "\n",
    "from datasets import get_hits\n",
    "from hopfield import iterate\n",
    "from metrics.tracks import track_metrics\n",
    "from segment.track import gen_seg_track_layered"
   ]
  },
  {
   "cell_type": "markdown",
   "id": "cc6ca7e6-4f91-435d-8423-4edfdbb53c5e",
   "metadata": {},
   "source": [
    "## 1.Learning rate is *critical*:\n",
    "- small easy dataset\n",
    "- many trials are needed to find a workable config\n",
    "- high t_max helps\n",
    "- learning rate results are still better and much faster"
   ]
  },
  {
   "cell_type": "code",
   "execution_count": null,
   "id": "1d589fff-d60d-4d7b-9061-c9f83338aff4",
   "metadata": {},
   "outputs": [],
   "source": [
    "N_TRIALS = 1000\n",
    "N_EVENTS = 50\n",
    "EVENT_SIZE = 10\n",
    "N_NOISE_HITS = 10\n",
    "N_WORKERS = -1"
   ]
  },
  {
   "cell_type": "code",
   "execution_count": null,
   "id": "86e95142-8c26-4aaa-b0b6-d540e4cb7d95",
   "metadata": {},
   "outputs": [],
   "source": [
    "events = get_hits('spdsim', n_events=N_EVENTS, n_noise_hits=N_NOISE_HITS, event_size=EVENT_SIZE)\n",
    "\n",
    "events = {eid: event.reset_index(drop=True) for eid, event in events.groupby('event_id')}\n",
    "eids = tuple(events.keys())\n",
    "\n",
    "def evaluate(config: Configuration, seed: int, budget: float = 10) -> float:\n",
    "    rng = np.random.default_rng(seed=seed)\n",
    "    scores = []\n",
    "    for eid in rng.choice(eids, int(budget), replace=False):\n",
    "        event = events[eid]\n",
    "        seg, acts, positives = iterate.run(event, **config)\n",
    "        tseg = gen_seg_track_layered(event)\n",
    "        score = track_metrics(event, seg, tseg, acts[-1], positives[-1])\n",
    "        score['total steps'] = config['cooling_steps'] + config['rest_steps']\n",
    "        score['trackml loss'] = 1. - score['trackml score']\n",
    "        scores.append(score)\n",
    "    return pd.DataFrame(scores).mean()['trackml loss']\n"
   ]
  },
  {
   "cell_type": "code",
   "execution_count": null,
   "id": "e04cd777-4107-40fd-aec5-2dbf67e3c3fe",
   "metadata": {},
   "outputs": [],
   "source": [
    "scenario = Scenario(\n",
    "    ConfigurationSpace({\n",
    "        'alpha': (0., 1000.),\n",
    "        'gamma': (0., 2000.),\n",
    "        'bias': (-40.0, 40.0),\n",
    "        # 'threshold': 0.5,\n",
    "        'cosine_power': (0.0, 50.0),\n",
    "        # 'cosine_min_allowed': -1.,\n",
    "        'cosine_min_rewarded': (0., 1.),\n",
    "        # 'distance_op': 'sum',\n",
    "        # 'distance_power': (0., 3.),\n",
    "        # 't_min': 1.,\n",
    "        't_max': (1., 500.),\n",
    "        'cooling_steps': (1, 50),\n",
    "        'rest_steps': (1, 10),\n",
    "        'initial_act': (0., 1.),\n",
    "        # 'learning_rate': (0., 1.)\n",
    "    }),\n",
    "    'easy-classic',\n",
    "    n_trials=N_TRIALS,\n",
    "    n_workers=N_WORKERS,\n",
    "    min_budget=2,\n",
    "    max_budget=N_EVENTS\n",
    ")\n",
    "\n",
    "optimizer = MultiFidelityFacade(scenario, evaluate, overwrite=True)\n",
    "best_config = optimizer.optimize()\n",
    "optimizer.validate(best_config)"
   ]
  },
  {
   "cell_type": "code",
   "execution_count": null,
   "id": "ff5e9d90-11ff-44dc-a8e1-f06ad551723c",
   "metadata": {},
   "outputs": [],
   "source": [
    "best_config"
   ]
  },
  {
   "cell_type": "code",
   "execution_count": null,
   "id": "7b95414a-63a0-4a79-88a2-026f138b4f01",
   "metadata": {},
   "outputs": [],
   "source": [
    "pd.DataFrame(optimizer.intensifier.trajectory)"
   ]
  },
  {
   "cell_type": "code",
   "execution_count": null,
   "id": "fbc9e4c7-9a40-4842-ba5c-7260db5ac9b5",
   "metadata": {},
   "outputs": [],
   "source": [
    "scenario = Scenario(\n",
    "    ConfigurationSpace({\n",
    "        'alpha': (0., 1000.),\n",
    "        'gamma': (0., 2000.),\n",
    "        'bias': (-40.0, 40.0),\n",
    "        # 'threshold': 0.5,\n",
    "        'cosine_power': (0.0, 50.0),\n",
    "        # 'cosine_min_allowed': -1.,\n",
    "        'cosine_min_rewarded': (0., 1.),\n",
    "        # 'distance_op': 'sum',\n",
    "        # 'distance_power': (0., 3.),\n",
    "        # 't_min': 1.,\n",
    "        't_max': (1., 500.),\n",
    "        'cooling_steps': (1, 50),\n",
    "        'rest_steps': (1, 10),\n",
    "        'initial_act': (0., 1.),\n",
    "        'learning_rate': (0., 1.)\n",
    "    }),\n",
    "    'easy-rate',\n",
    "    n_trials=N_TRIALS/4,\n",
    "    n_workers=N_WORKERS,\n",
    "    min_budget=2,\n",
    "    max_budget=N_EVENTS\n",
    ")\n",
    "\n",
    "optimizer = MultiFidelityFacade(scenario, evaluate, overwrite=True)\n",
    "best_config = optimizer.optimize()\n",
    "optimizer.validate(best_config)"
   ]
  },
  {
   "cell_type": "code",
   "execution_count": null,
   "id": "7a741b94-43ef-453b-912c-e033925b41cc",
   "metadata": {},
   "outputs": [],
   "source": [
    "best_config"
   ]
  },
  {
   "cell_type": "code",
   "execution_count": null,
   "id": "0f35d308-b376-4229-b364-31dbb61f813d",
   "metadata": {},
   "outputs": [],
   "source": [
    "pd.DataFrame(optimizer.intensifier.trajectory)"
   ]
  },
  {
   "cell_type": "markdown",
   "id": "d92eed23-b96f-461d-9d34-85e93fd9c7ee",
   "metadata": {},
   "source": [
    "## 2. Harder problem. TODO: result? "
   ]
  },
  {
   "cell_type": "code",
   "execution_count": null,
   "id": "42b8fd4c-b35b-4e95-8d84-6d03580c1239",
   "metadata": {},
   "outputs": [],
   "source": [
    "N_TRIALS = 200\n",
    "N_EVENTS = 20\n",
    "EVENT_SIZE = 10\n",
    "N_NOISE_HITS = 35*50\n",
    "N_WORKERS = -1"
   ]
  },
  {
   "cell_type": "code",
   "execution_count": null,
   "id": "2abdc430-e0da-45b2-8fe3-18a657d67f0e",
   "metadata": {},
   "outputs": [],
   "source": [
    "events = get_hits('spdsim', n_events=N_EVENTS, n_noise_hits=N_NOISE_HITS, event_size=EVENT_SIZE)\n",
    "\n",
    "events = {eid: event.reset_index(drop=True) for eid, event in events.groupby('event_id')}\n",
    "eids = tuple(events.keys())\n",
    "\n",
    "def evaluate(config: Configuration, seed: int, budget: float = 10) -> float:\n",
    "    rng = np.random.default_rng(seed=seed)\n",
    "    scores = []\n",
    "    for eid in rng.choice(eids, int(budget), replace=False):\n",
    "        event = events[eid]\n",
    "        seg, acts, positives = iterate.run(event, **config)\n",
    "        tseg = gen_seg_track_layered(event)\n",
    "        score = track_metrics(event, seg, tseg, acts[-1], positives[-1])\n",
    "        score['total steps'] = config['cooling_steps'] + config['rest_steps']\n",
    "        score['trackml loss'] = 1. - score['trackml score']\n",
    "        scores.append(score)\n",
    "    return pd.DataFrame(scores).mean()['trackml loss']\n"
   ]
  },
  {
   "cell_type": "code",
   "execution_count": null,
   "id": "28935260-fd80-41d8-b3db-a33c776af005",
   "metadata": {},
   "outputs": [],
   "source": [
    "scenario = Scenario(\n",
    "    ConfigurationSpace({\n",
    "        'alpha': (0., 100.),\n",
    "        'gamma': (0., 1000.),\n",
    "        'bias': (-40.0, 40.0),\n",
    "        # 'threshold': 0.5,\n",
    "        'cosine_power': (0.0, 50.0),\n",
    "        # 'cosine_min_allowed': -1.,\n",
    "        'cosine_min_rewarded': (0., 1.),\n",
    "        # 'distance_op': 'sum',\n",
    "        # 'distance_power': (0., 3.),\n",
    "        # 't_min': 1.,\n",
    "        't_max': (1., 500.),\n",
    "        'cooling_steps': (1, 50),\n",
    "        'rest_steps': (1, 10),\n",
    "        'initial_act': (0., 1.),\n",
    "        'learning_rate': (0., 1.)\n",
    "    }),\n",
    "    'basic',\n",
    "    n_trials=N_TRIALS,\n",
    "    n_workers=N_WORKERS,\n",
    "    min_budget=2,\n",
    "    max_budget=N_EVENTS\n",
    ")\n",
    "\n",
    "optimizer = MultiFidelityFacade(scenario, evaluate, overwrite=True)\n",
    "best_config = optimizer.optimize()\n",
    "optimizer.validate(best_config)"
   ]
  },
  {
   "cell_type": "code",
   "execution_count": null,
   "id": "fb955fbd-9038-4d39-bbf5-958dd3294811",
   "metadata": {},
   "outputs": [],
   "source": [
    "best_config"
   ]
  },
  {
   "cell_type": "code",
   "execution_count": null,
   "id": "95b849ce-aaaf-4233-b24d-5f0935be4512",
   "metadata": {},
   "outputs": [],
   "source": [
    "pd.DataFrame(optimizer.intensifier.trajectory)"
   ]
  }
 ],
 "metadata": {
  "kernelspec": {
   "display_name": "Python 3 (ipykernel)",
   "language": "python",
   "name": "python3"
  },
  "language_info": {
   "codemirror_mode": {
    "name": "ipython",
    "version": 3
   },
   "file_extension": ".py",
   "mimetype": "text/x-python",
   "name": "python",
   "nbconvert_exporter": "python",
   "pygments_lexer": "ipython3"
  }
 },
 "nbformat": 4,
 "nbformat_minor": 5
}
