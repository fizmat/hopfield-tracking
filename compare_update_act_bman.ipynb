{
 "cells": [
  {
   "cell_type": "code",
   "execution_count": null,
   "id": "84a876c0-381b-4372-88af-922c36a927cd",
   "metadata": {},
   "outputs": [],
   "source": [
    "import numpy as np\n",
    "import pandas as pd\n",
    "from ConfigSpace import ConfigurationSpace, Configuration\n",
    "from smac import MultiFidelityFacade, Scenario\n",
    "from functools import partial\n",
    "\n",
    "\n",
    "from datasets import get_hits\n",
    "from metrics.tracks import track_metrics\n",
    "from segment.track import gen_seg_track_layered\n",
    "from segment.candidate import gen_seg_layered\n",
    "from hopfield.energy.cross import cross_energy_matrix\n",
    "from hopfield.energy.curvature import find_consecutive_segments, curvature_energy_matrix, prep_curvature\n",
    "from hopfield.iterate import annealing_curve, anneal, update_act_bulk, update_act_sequential\n",
    "from optimize import CONFIG_DEFAULTS"
   ]
  },
  {
   "cell_type": "code",
   "execution_count": null,
   "id": "d978b8e6",
   "metadata": {},
   "outputs": [],
   "source": [
    "import vispy\n",
    "# selecting sub-backend behind jupyter_rfb:\n",
    "# 1) pyglfw has high priority if present\n",
    "# 2) to use any other backend, install then designate as default\n",
    "# 4) use jupyter_rfb, it then selects the sub-backend according to config\n",
    "# 5) enable jupyterlab extensions for interactive widget provided by jupyter_rfb\n",
    "\n",
    "# only needed in jhub2, jhub and jlab-hpc can't run opengl at all, locally auto-selected backend is OK\n",
    "vispy.config.update(default_backend='egl')\n",
    "vispy.use('jupyter_rfb')"
   ]
  },
  {
   "cell_type": "code",
   "execution_count": null,
   "id": "9dab0a26",
   "metadata": {},
   "outputs": [],
   "source": [
    "from metrics.segments import gen_perfect_act\n",
    "import vispy.scene\n",
    "from hopfield.plot import _result_view"
   ]
  },
  {
   "cell_type": "markdown",
   "id": "cc6ca7e6-4f91-435d-8423-4edfdbb53c5e",
   "metadata": {},
   "source": [
    "# Learning rate vs sequential update?\n",
    "- small easy dataset\n",
    "- many trials are needed to find a workable config"
   ]
  },
  {
   "cell_type": "code",
   "execution_count": null,
   "id": "dd653ac5",
   "metadata": {},
   "outputs": [],
   "source": [
    "from datasets import bman\n",
    "N_EVENTS = 50\n",
    "hits = get_hits('bman', n_events=N_EVENTS)\n",
    "hits[['x', 'y', 'z']] /= bman.LAYER_DIST\n",
    "hits"
   ]
  },
  {
   "cell_type": "code",
   "execution_count": null,
   "id": "bdc333a1",
   "metadata": {},
   "outputs": [],
   "source": [
    "hits = hits[hits['track']!=-1]\n",
    "hits"
   ]
  },
  {
   "cell_type": "code",
   "execution_count": null,
   "id": "a13b788c",
   "metadata": {},
   "outputs": [],
   "source": [
    "hits = hits.groupby(['event_id', 'track']).apply(lambda g: g if len(g)>2 else None).reset_index(drop=True)\n",
    "hits"
   ]
  },
  {
   "cell_type": "code",
   "execution_count": null,
   "id": "bf87085a",
   "metadata": {},
   "outputs": [],
   "source": [
    "def preprocess(g):\n",
    "    event = g.reset_index(drop=True)\n",
    "    seg = gen_seg_layered(event)\n",
    "    pairs, cosines, r1, r2 = prep_curvature(event[['x', 'y', 'z']].to_numpy(), seg)\n",
    "    return {\n",
    "        'event': event,\n",
    "        'seg': seg,\n",
    "        'pairs': pairs,\n",
    "        'cosines': cosines,\n",
    "        'r1': r1,\n",
    "        'r2': r2,\n",
    "        'cross_matrix': cross_energy_matrix(seg),\n",
    "    }\n",
    "geometry = hits.groupby('event_id').apply(preprocess)\n",
    "\n",
    "extra_conf = {\n",
    "    'cooling_steps': 50,\n",
    "    'rest_steps': 5,\n",
    "}"
   ]
  },
  {
   "cell_type": "code",
   "execution_count": null,
   "id": "f0349cc2",
   "metadata": {},
   "outputs": [],
   "source": [
    "def dict_to_mem_usage(d):\n",
    "    rows = {}\n",
    "    for k,v in d.items():\n",
    "        if isinstance(v, pd.DataFrame):\n",
    "            rows[k] = v.memory_usage(deep=True).sum()\n",
    "        elif isinstance(v, np.ndarray):\n",
    "            rows[k] = v.nbytes\n",
    "        else:\n",
    "            rows[k] = v.data.nbytes + v.indptr.nbytes + v.indices.nbytes\n",
    "    return rows\n",
    "\n",
    "pd.DataFrame([dict_to_mem_usage(g) for g in geometry]).sum()/1024/1024"
   ]
  },
  {
   "cell_type": "markdown",
   "id": "38f5ff4f",
   "metadata": {},
   "source": [
    "## bulk update, no learning rate"
   ]
  },
  {
   "cell_type": "code",
   "execution_count": null,
   "id": "1d589fff-d60d-4d7b-9061-c9f83338aff4",
   "metadata": {},
   "outputs": [],
   "source": [
    "# need many trials to find any working config\n",
    "N_TRIALS = 200\n",
    "\n",
    "scenario = Scenario(\n",
    "    ConfigurationSpace({\n",
    "        'alpha': (0., 1000.),\n",
    "        'gamma': (0., 2000.),\n",
    "        'bias': (-200.0, 200.0),\n",
    "        'cosine_power': (0.0, 50.0),\n",
    "        'cosine_min_rewarded': (0., 1.),\n",
    "        't_max': (1., 1000.),\n",
    "        'initial_act': (0., 1.),\n",
    "    }),\n",
    "    'bulk-norate',\n",
    "    n_trials=N_TRIALS,\n",
    "    min_budget=1,\n",
    "    max_budget=N_EVENTS\n",
    ")\n"
   ]
  },
  {
   "cell_type": "code",
   "execution_count": null,
   "id": "86e95142-8c26-4aaa-b0b6-d540e4cb7d95",
   "metadata": {},
   "outputs": [],
   "source": [
    "def evaluate(config: Configuration, seed: int, budget: float) -> float:\n",
    "    conf = CONFIG_DEFAULTS.copy()\n",
    "    conf.update(extra_conf)\n",
    "    conf.update(config)\n",
    "    rng = np.random.default_rng(seed=seed)\n",
    "    scores = []\n",
    "    for eid in rng.choice(geometry.index, int(budget), replace=False):\n",
    "        event, seg, pairs, cosines, r1, r2, crossing_matrix = geometry[eid].values()\n",
    "        curvature_matrix = curvature_energy_matrix(\n",
    "            len(seg), pairs, cosines, r1, r2,\n",
    "            cosine_power=conf['cosine_power'], cosine_threshold=conf['cosine_min_rewarded'],\n",
    "            distance_power=conf['distance_power']\n",
    "        )\n",
    "        energy_matrix = conf['alpha'] * crossing_matrix - conf['gamma'] * curvature_matrix\n",
    "        temp_curve = annealing_curve(conf['t_min'], conf['t_max'],\n",
    "                                     conf['cooling_steps'], conf['rest_steps'])\n",
    "        act = np.full(len(seg), conf['initial_act'])\n",
    "        update_act = partial(update_act_bulk, learning_rate=conf['learning_rate'])\n",
    "        for _ in anneal(energy_matrix, temp_curve, act, update_act, bias=conf['bias']):\n",
    "            pass\n",
    "        tseg = gen_seg_track_layered(event)\n",
    "        score = track_metrics(event, seg, tseg, act, act>conf['threshold'])\n",
    "        score['total steps'] = conf['cooling_steps'] + conf['rest_steps']\n",
    "        score['trackml loss'] = 1. - score['trackml score']\n",
    "        scores.append(score)\n",
    "    return pd.DataFrame(scores).mean()['trackml loss']\n"
   ]
  },
  {
   "cell_type": "code",
   "execution_count": null,
   "id": "e04cd777-4107-40fd-aec5-2dbf67e3c3fe",
   "metadata": {},
   "outputs": [],
   "source": [
    "%%prun -s cumulative\n",
    "optimizer = MultiFidelityFacade(scenario, evaluate, overwrite=True)\n",
    "best_config = optimizer.optimize()"
   ]
  },
  {
   "cell_type": "code",
   "execution_count": null,
   "id": "3a1e2ba9",
   "metadata": {},
   "outputs": [],
   "source": [
    "optimizer.validate(best_config)"
   ]
  },
  {
   "cell_type": "code",
   "execution_count": null,
   "id": "ff5e9d90-11ff-44dc-a8e1-f06ad551723c",
   "metadata": {},
   "outputs": [],
   "source": [
    "best_config"
   ]
  },
  {
   "cell_type": "code",
   "execution_count": null,
   "id": "7b95414a-63a0-4a79-88a2-026f138b4f01",
   "metadata": {},
   "outputs": [],
   "source": [
    "pd.DataFrame(optimizer.intensifier.trajectory)"
   ]
  },
  {
   "cell_type": "code",
   "execution_count": null,
   "id": "a8ac310e",
   "metadata": {},
   "outputs": [],
   "source": [
    "conf = CONFIG_DEFAULTS.copy()\n",
    "conf.update(extra_conf)\n",
    "conf.update(best_config)\n",
    "event, seg, pairs, cosines, r1, r2, crossing_matrix = geometry.iloc[6].values()\n",
    "curvature_matrix = curvature_energy_matrix(\n",
    "    len(seg), pairs, cosines, r1, r2,\n",
    "    cosine_power=conf['cosine_power'], cosine_threshold=conf['cosine_min_rewarded'],\n",
    "    distance_power=conf['distance_power']\n",
    ")\n",
    "energy_matrix = conf['alpha'] * crossing_matrix - conf['gamma'] * curvature_matrix\n",
    "temp_curve = annealing_curve(conf['t_min'], conf['t_max'],\n",
    "                             conf['cooling_steps'], conf['rest_steps'])\n",
    "act = np.full(len(seg), conf['initial_act'])\n",
    "update_act = partial(update_act_bulk, learning_rate=conf['learning_rate'])\n",
    "for _ in anneal(energy_matrix, temp_curve, act, update_act, bias=conf['bias']):\n",
    "    pass\n",
    "tseg = gen_seg_track_layered(event)\n",
    "\n",
    "perfect_act = gen_perfect_act(seg, tseg)\n",
    "\n",
    "result_canvas = vispy.scene.SceneCanvas(bgcolor='white', size=(300, 750))\n",
    "positive = act >= conf['threshold']\n",
    "result_canvas.central_widget.add_widget(\n",
    "    _result_view(event, seg, act, perfect_act, positive, \n",
    "                 camera=vispy.scene.cameras.TurntableCamera(fov=20, scale_factor=8))\n",
    ")    \n",
    "result_canvas"
   ]
  },
  {
   "cell_type": "markdown",
   "id": "0bf527a0",
   "metadata": {},
   "source": [
    "## bulk update, optimize learning rate"
   ]
  },
  {
   "cell_type": "code",
   "execution_count": null,
   "id": "a28e1922",
   "metadata": {},
   "outputs": [],
   "source": [
    "scenario = Scenario(\n",
    "    ConfigurationSpace({\n",
    "        'alpha': (0., 1000.),\n",
    "        'gamma': (0., 2000.),\n",
    "        'bias': (-40.0, 40.0),\n",
    "        'cosine_power': (0.0, 50.0),\n",
    "        'cosine_min_rewarded': (0., 1.),\n",
    "        't_max': (1., 1000.),\n",
    "        'initial_act': (0., 1.),\n",
    "        'learning_rate': (0., 1.)\n",
    "    }),\n",
    "    'bulk-rate',\n",
    "    n_trials=N_TRIALS,\n",
    "    min_budget=3,\n",
    "    max_budget=N_EVENTS\n",
    ")"
   ]
  },
  {
   "cell_type": "code",
   "execution_count": null,
   "id": "e196700b",
   "metadata": {},
   "outputs": [],
   "source": [
    "optimizer = MultiFidelityFacade(scenario, evaluate, overwrite=True)\n",
    "best_config = optimizer.optimize()"
   ]
  },
  {
   "cell_type": "code",
   "execution_count": null,
   "id": "0e634ca8",
   "metadata": {},
   "outputs": [],
   "source": [
    "optimizer.validate(best_config)"
   ]
  },
  {
   "cell_type": "code",
   "execution_count": null,
   "id": "74cb88ac",
   "metadata": {},
   "outputs": [],
   "source": [
    "best_config"
   ]
  },
  {
   "cell_type": "code",
   "execution_count": null,
   "id": "dcc77b3f",
   "metadata": {},
   "outputs": [],
   "source": [
    "pd.DataFrame(optimizer.intensifier.trajectory)"
   ]
  },
  {
   "cell_type": "code",
   "execution_count": null,
   "id": "b22c76c4",
   "metadata": {},
   "outputs": [],
   "source": [
    "conf = CONFIG_DEFAULTS.copy()\n",
    "conf.update(extra_conf)\n",
    "conf.update(best_config)\n",
    "event, seg, pairs, cosines, r1, r2, crossing_matrix = geometry.iloc[1].values()\n",
    "curvature_matrix = curvature_energy_matrix(\n",
    "    len(seg), pairs, cosines, r1, r2,\n",
    "    cosine_power=conf['cosine_power'], cosine_threshold=conf['cosine_min_rewarded'],\n",
    "    distance_power=conf['distance_power']\n",
    ")\n",
    "energy_matrix = conf['alpha'] * crossing_matrix - conf['gamma'] * curvature_matrix\n",
    "temp_curve = annealing_curve(conf['t_min'], conf['t_max'],\n",
    "                             conf['cooling_steps'], conf['rest_steps'])\n",
    "act = np.full(len(seg), conf['initial_act'])\n",
    "update_act = partial(update_act_bulk, learning_rate=conf['learning_rate'])\n",
    "for _ in anneal(energy_matrix, temp_curve, act, update_act, bias=conf['bias']):\n",
    "    pass\n",
    "tseg = gen_seg_track_layered(event)\n",
    "\n",
    "perfect_act = gen_perfect_act(seg, tseg)\n",
    "\n",
    "result_canvas = vispy.scene.SceneCanvas(bgcolor='white', size=(300, 750))\n",
    "positive = act >= conf['threshold']\n",
    "result_canvas.central_widget.add_widget(\n",
    "    _result_view(event, seg, act, perfect_act, positive, \n",
    "                 camera=vispy.scene.cameras.TurntableCamera(fov=20, scale_factor=8))\n",
    ")    \n",
    "result_canvas"
   ]
  },
  {
   "cell_type": "markdown",
   "id": "17eb0b57",
   "metadata": {},
   "source": [
    "## sequential update"
   ]
  },
  {
   "cell_type": "code",
   "execution_count": null,
   "id": "c239c581",
   "metadata": {},
   "outputs": [],
   "source": [
    "scenario = Scenario(\n",
    "    ConfigurationSpace({\n",
    "        'alpha': (0., 1000.),\n",
    "        'gamma': (0., 2000.),\n",
    "        'bias': (-40.0, 40.0),\n",
    "        'cosine_power': (0.0, 50.0),\n",
    "        'cosine_min_rewarded': (0., 1.),\n",
    "        't_max': (1., 1000.),\n",
    "        'initial_act': (0., 1.)\n",
    "    }),\n",
    "    'sequential',\n",
    "    n_trials=N_TRIALS,\n",
    "    min_budget=3,\n",
    "    max_budget=N_EVENTS\n",
    ")"
   ]
  },
  {
   "cell_type": "code",
   "execution_count": null,
   "id": "3339cca3",
   "metadata": {},
   "outputs": [],
   "source": [
    "def evaluate(config: Configuration, seed: int, budget: float) -> float:\n",
    "    conf = CONFIG_DEFAULTS.copy()\n",
    "    conf.update(extra_conf)\n",
    "    conf.update(config)\n",
    "    rng = np.random.default_rng(seed=seed)\n",
    "    scores = []\n",
    "    for eid in rng.choice(geometry.index, int(budget), replace=False):\n",
    "        event, seg, pairs, cosines, r1, r2, crossing_matrix = geometry[eid].values()\n",
    "        curvature_matrix = curvature_energy_matrix(\n",
    "            len(seg), pairs, cosines, r1, r2,\n",
    "            cosine_power=conf['cosine_power'], cosine_threshold=conf['cosine_min_rewarded'],\n",
    "            distance_power=conf['distance_power']\n",
    "        )\n",
    "        energy_matrix = conf['alpha'] * crossing_matrix - conf['gamma'] * curvature_matrix\n",
    "        temp_curve = annealing_curve(conf['t_min'], conf['t_max'],\n",
    "                                     conf['cooling_steps'], conf['rest_steps'])\n",
    "        act = np.full(len(seg), conf['initial_act'])\n",
    "        update_act = update_act_sequential\n",
    "        for _ in anneal(energy_matrix, temp_curve, act, update_act, bias=conf['bias']):\n",
    "            pass\n",
    "        tseg = gen_seg_track_layered(event)\n",
    "        score = track_metrics(event, seg, tseg, act, act>conf['threshold'])\n",
    "        score['total steps'] = conf['cooling_steps'] + conf['rest_steps']\n",
    "        score['trackml loss'] = 1. - score['trackml score']\n",
    "        scores.append(score)\n",
    "    return pd.DataFrame(scores).mean()['trackml loss']"
   ]
  },
  {
   "cell_type": "code",
   "execution_count": null,
   "id": "edabe73e",
   "metadata": {},
   "outputs": [],
   "source": [
    "optimizer = MultiFidelityFacade(scenario, evaluate, overwrite=True)\n",
    "best_config = optimizer.optimize()"
   ]
  },
  {
   "cell_type": "code",
   "execution_count": null,
   "id": "2d2388d7",
   "metadata": {},
   "outputs": [],
   "source": [
    "optimizer.validate(best_config)"
   ]
  },
  {
   "cell_type": "code",
   "execution_count": null,
   "id": "7e64d631",
   "metadata": {},
   "outputs": [],
   "source": [
    "best_config"
   ]
  },
  {
   "cell_type": "code",
   "execution_count": null,
   "id": "d36ec519",
   "metadata": {},
   "outputs": [],
   "source": [
    "pd.DataFrame(optimizer.intensifier.trajectory)"
   ]
  },
  {
   "cell_type": "code",
   "execution_count": null,
   "id": "d79f7a35",
   "metadata": {},
   "outputs": [],
   "source": [
    "conf = CONFIG_DEFAULTS.copy()\n",
    "conf.update(extra_conf)\n",
    "conf.update(best_config)\n",
    "event, seg, pairs, cosines, r1, r2, crossing_matrix = geometry.iloc[1].values()\n",
    "curvature_matrix = curvature_energy_matrix(\n",
    "    len(seg), pairs, cosines, r1, r2,\n",
    "    cosine_power=conf['cosine_power'], cosine_threshold=conf['cosine_min_rewarded'],\n",
    "    distance_power=conf['distance_power']\n",
    ")\n",
    "energy_matrix = conf['alpha'] * crossing_matrix - conf['gamma'] * curvature_matrix\n",
    "temp_curve = annealing_curve(conf['t_min'], conf['t_max'],\n",
    "                             conf['cooling_steps'], conf['rest_steps'])\n",
    "act = np.full(len(seg), conf['initial_act'])\n",
    "update_act = update_act_sequential\n",
    "for _ in anneal(energy_matrix, temp_curve, act, update_act, bias=conf['bias']):\n",
    "    pass\n",
    "tseg = gen_seg_track_layered(event)\n",
    "\n",
    "perfect_act = gen_perfect_act(seg, tseg)\n",
    "\n",
    "result_canvas = vispy.scene.SceneCanvas(bgcolor='white', size=(300, 750))\n",
    "positive = act >= conf['threshold']\n",
    "result_canvas.central_widget.add_widget(\n",
    "    _result_view(event, seg, act, perfect_act, positive, \n",
    "                 camera=vispy.scene.cameras.TurntableCamera(fov=20, scale_factor=8))\n",
    ")    \n",
    "result_canvas"
   ]
  }
 ],
 "metadata": {
  "kernelspec": {
   "display_name": "Python 3 (ipykernel)",
   "language": "python",
   "name": "python3"
  },
  "language_info": {
   "codemirror_mode": {
    "name": "ipython",
    "version": 3
   },
   "file_extension": ".py",
   "mimetype": "text/x-python",
   "name": "python",
   "nbconvert_exporter": "python",
   "pygments_lexer": "ipython3"
  }
 },
 "nbformat": 4,
 "nbformat_minor": 5
}
