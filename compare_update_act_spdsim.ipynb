{
 "cells": [
  {
   "cell_type": "code",
   "execution_count": null,
   "id": "84a876c0-381b-4372-88af-922c36a927cd",
   "metadata": {},
   "outputs": [],
   "source": [
    "import numpy as np\n",
    "import pandas as pd\n",
    "from ConfigSpace import ConfigurationSpace, Configuration\n",
    "from smac import MultiFidelityFacade, Scenario\n",
    "from functools import partial\n",
    "\n",
    "\n",
    "from datasets import get_hits\n",
    "from metrics.tracks import track_metrics\n",
    "from segment.track import gen_seg_track_layered\n",
    "from segment.candidate import gen_seg_layered\n",
    "from hopfield.energy.cross import cross_energy_matrix\n",
    "from hopfield.energy.curvature import find_consecutive_segments, curvature_energy_matrix\n",
    "from hopfield.iterate import annealing_curve, anneal, update_act_bulk, update_act_sequential\n",
    "from optimize import CONFIG_DEFAULTS\n"
   ]
  },
  {
   "cell_type": "markdown",
   "id": "cc6ca7e6-4f91-435d-8423-4edfdbb53c5e",
   "metadata": {},
   "source": [
    "# Learning rate vs sequential update?\n",
    "- small easy dataset\n",
    "- many trials are needed to find a workable config"
   ]
  },
  {
   "cell_type": "code",
   "execution_count": null,
   "id": "bf87085a",
   "metadata": {},
   "outputs": [],
   "source": [
    "from datasets import spdsim\n",
    "# small easy dataset\n",
    "N_EVENTS = 50\n",
    "hits = get_hits('spdsim', n_events=N_EVENTS, n_noise_hits=10, event_size=20)\n",
    "hits[['x', 'y', 'z']] /= spdsim.LAYER_DIST\n",
    "events = {eid: event.reset_index(drop=True) for eid, event in hits.groupby('event_id')}\n",
    "eids = tuple(events.keys())\n",
    "segs = {eid: gen_seg_layered(event) for eid, event in events.items()}\n",
    "pairs = {eid: find_consecutive_segments(seg) for eid, seg in segs.items()}\n",
    "crosses = {eid: cross_energy_matrix(seg) for eid, seg in segs.items()}\n",
    "\n",
    "# fast iteration to optimize faster\n",
    "extra_conf = {\n",
    "    'cooling_steps': 10,\n",
    "    'rest_steps': 0,\n",
    "}"
   ]
  },
  {
   "cell_type": "markdown",
   "id": "38f5ff4f",
   "metadata": {},
   "source": [
    "## bulk update, no learning rate"
   ]
  },
  {
   "cell_type": "code",
   "execution_count": null,
   "id": "1d589fff-d60d-4d7b-9061-c9f83338aff4",
   "metadata": {},
   "outputs": [],
   "source": [
    "# need many trials to find any working config\n",
    "N_TRIALS = 100\n",
    "\n",
    "scenario = Scenario(\n",
    "    ConfigurationSpace({\n",
    "        'alpha': (0., 1000.),\n",
    "        'gamma': (0., 2000.),\n",
    "        'bias': (-40.0, 40.0),\n",
    "        'cosine_power': (0.0, 50.0),\n",
    "        'cosine_min_rewarded': (0., 1.),\n",
    "        't_max': (1., 1000.),\n",
    "        'initial_act': (0., 1.),\n",
    "    }),\n",
    "    'bulk-norate',\n",
    "    n_trials=N_TRIALS,\n",
    "    min_budget=3,\n",
    "    max_budget=N_EVENTS\n",
    ")\n"
   ]
  },
  {
   "cell_type": "code",
   "execution_count": null,
   "id": "86e95142-8c26-4aaa-b0b6-d540e4cb7d95",
   "metadata": {},
   "outputs": [],
   "source": [
    "def evaluate(config: Configuration, seed: int, budget: float) -> float:\n",
    "    conf = CONFIG_DEFAULTS.copy()\n",
    "    conf.update(extra_conf)\n",
    "    conf.update(config)\n",
    "    rng = np.random.default_rng(seed=seed)\n",
    "    scores = []\n",
    "    for eid in rng.choice(eids, int(budget), replace=False):\n",
    "        event = events[eid]\n",
    "        seg = segs[eid]\n",
    "        crossing_matrix = conf['alpha'] * crosses[eid]\n",
    "        curvature_matrix = curvature_energy_matrix(\n",
    "            pos=event[['x', 'y', 'z']].to_numpy(),\n",
    "            seg=seg, pairs=pairs[eid], alpha=conf['alpha'], gamma=conf['gamma'],\n",
    "            cosine_threshold=conf['cosine_min_rewarded'], cosine_min_allowed=conf['cosine_min_allowed'],\n",
    "            curvature_cosine_power=conf['cosine_power'],\n",
    "            do_sum_r=conf['distance_op'] == 'sum', distance_prod_power_in_denominator=conf['distance_power']\n",
    "        )\n",
    "        energy_matrix = crossing_matrix + curvature_matrix\n",
    "        temp_curve = annealing_curve(conf['t_min'], conf['t_max'],\n",
    "                                     conf['cooling_steps'], conf['rest_steps'])\n",
    "        act = np.full(len(seg), conf['initial_act'])\n",
    "        update_act = partial(update_act_bulk, learning_rate=conf['learning_rate'])\n",
    "        for _ in anneal(energy_matrix, temp_curve, act, update_act, bias=conf['bias']):\n",
    "            pass\n",
    "        tseg = gen_seg_track_layered(event)\n",
    "        score = track_metrics(event, seg, tseg, act, act>conf['threshold'])\n",
    "        score['total steps'] = conf['cooling_steps'] + conf['rest_steps']\n",
    "        score['trackml loss'] = 1. - score['trackml score']\n",
    "        scores.append(score)\n",
    "    return pd.DataFrame(scores).mean()['trackml loss']\n"
   ]
  },
  {
   "cell_type": "code",
   "execution_count": null,
   "id": "e04cd777-4107-40fd-aec5-2dbf67e3c3fe",
   "metadata": {},
   "outputs": [],
   "source": [
    "optimizer = MultiFidelityFacade(scenario, evaluate, overwrite=True)\n",
    "best_config = optimizer.optimize()\n"
   ]
  },
  {
   "cell_type": "code",
   "execution_count": null,
   "id": "cadafde2",
   "metadata": {},
   "outputs": [],
   "source": [
    "optimizer.validate(best_config)"
   ]
  },
  {
   "cell_type": "code",
   "execution_count": null,
   "id": "ff5e9d90-11ff-44dc-a8e1-f06ad551723c",
   "metadata": {},
   "outputs": [],
   "source": [
    "best_config"
   ]
  },
  {
   "cell_type": "code",
   "execution_count": null,
   "id": "7b95414a-63a0-4a79-88a2-026f138b4f01",
   "metadata": {},
   "outputs": [],
   "source": [
    "pd.DataFrame(optimizer.intensifier.trajectory)"
   ]
  },
  {
   "cell_type": "markdown",
   "id": "0bf527a0",
   "metadata": {},
   "source": [
    "## bulk update, optimize learning rate"
   ]
  },
  {
   "cell_type": "code",
   "execution_count": null,
   "id": "a28e1922",
   "metadata": {},
   "outputs": [],
   "source": [
    "scenario = Scenario(\n",
    "    ConfigurationSpace({\n",
    "        'alpha': (0., 1000.),\n",
    "        'gamma': (0., 2000.),\n",
    "        'bias': (-40.0, 40.0),\n",
    "        'cosine_power': (0.0, 50.0),\n",
    "        'cosine_min_rewarded': (0., 1.),\n",
    "        't_max': (1., 1000.),\n",
    "        'initial_act': (0., 1.),\n",
    "        'learning_rate': (0., 1.)\n",
    "    }),\n",
    "    'bulk-rate',\n",
    "    n_trials=N_TRIALS,\n",
    "    min_budget=3,\n",
    "    max_budget=N_EVENTS\n",
    ")"
   ]
  },
  {
   "cell_type": "code",
   "execution_count": null,
   "id": "e196700b",
   "metadata": {},
   "outputs": [],
   "source": [
    "optimizer = MultiFidelityFacade(scenario, evaluate, overwrite=True)\n",
    "best_config = optimizer.optimize()"
   ]
  },
  {
   "cell_type": "code",
   "execution_count": null,
   "id": "0e634ca8",
   "metadata": {},
   "outputs": [],
   "source": [
    "optimizer.validate(best_config)"
   ]
  },
  {
   "cell_type": "code",
   "execution_count": null,
   "id": "74cb88ac",
   "metadata": {},
   "outputs": [],
   "source": [
    "best_config"
   ]
  },
  {
   "cell_type": "code",
   "execution_count": null,
   "id": "dcc77b3f",
   "metadata": {},
   "outputs": [],
   "source": [
    "pd.DataFrame(optimizer.intensifier.trajectory)"
   ]
  },
  {
   "cell_type": "markdown",
   "id": "17eb0b57",
   "metadata": {},
   "source": [
    "## sequential update"
   ]
  },
  {
   "cell_type": "code",
   "execution_count": null,
   "id": "c239c581",
   "metadata": {},
   "outputs": [],
   "source": [
    "scenario = Scenario(\n",
    "    ConfigurationSpace({\n",
    "        'alpha': (0., 1000.),\n",
    "        'gamma': (0., 2000.),\n",
    "        'bias': (-40.0, 40.0),\n",
    "        'cosine_power': (0.0, 50.0),\n",
    "        'cosine_min_rewarded': (0., 1.),\n",
    "        't_max': (1., 1000.),\n",
    "        'initial_act': (0., 1.)\n",
    "    }),\n",
    "    'sequential',\n",
    "    n_trials=N_TRIALS,\n",
    "    min_budget=3,\n",
    "    max_budget=N_EVENTS\n",
    ")"
   ]
  },
  {
   "cell_type": "code",
   "execution_count": null,
   "id": "98b20694",
   "metadata": {},
   "outputs": [],
   "source": [
    "def evaluate(config: Configuration, seed: int, budget: float) -> float:\n",
    "    conf = CONFIG_DEFAULTS.copy()\n",
    "    conf.update(extra_conf)\n",
    "    conf.update(config)\n",
    "    rng = np.random.default_rng(seed=seed)\n",
    "    scores = []\n",
    "    for eid in rng.choice(eids, int(budget), replace=False):\n",
    "        event = events[eid]\n",
    "        seg = segs[eid]\n",
    "        crossing_matrix = conf['alpha'] * crosses[eid]\n",
    "        curvature_matrix = curvature_energy_matrix(\n",
    "            pos=event[['x', 'y', 'z']].to_numpy(),\n",
    "            seg=seg, pairs=pairs[eid], alpha=conf['alpha'], gamma=conf['gamma'],\n",
    "            cosine_threshold=conf['cosine_min_rewarded'], cosine_min_allowed=conf['cosine_min_allowed'],\n",
    "            curvature_cosine_power=conf['cosine_power'],\n",
    "            do_sum_r=conf['distance_op'] == 'sum', distance_prod_power_in_denominator=conf['distance_power']\n",
    "        )\n",
    "        energy_matrix = crossing_matrix + curvature_matrix\n",
    "        temp_curve = annealing_curve(conf['t_min'], conf['t_max'],\n",
    "                                     conf['cooling_steps'], conf['rest_steps'])\n",
    "        act = np.full(len(seg), conf['initial_act'])\n",
    "        update_act = update_act_sequential\n",
    "        for _ in anneal(energy_matrix, temp_curve, act, update_act, bias=conf['bias']):\n",
    "            pass\n",
    "        tseg = gen_seg_track_layered(event)\n",
    "        score = track_metrics(event, seg, tseg, act, act>conf['threshold'])\n",
    "        score['total steps'] = conf['cooling_steps'] + conf['rest_steps']\n",
    "        score['trackml loss'] = 1. - score['trackml score']\n",
    "        scores.append(score)\n",
    "    return pd.DataFrame(scores).mean()['trackml loss']"
   ]
  },
  {
   "cell_type": "code",
   "execution_count": null,
   "id": "edabe73e",
   "metadata": {},
   "outputs": [],
   "source": [
    "optimizer = MultiFidelityFacade(scenario, evaluate, overwrite=True)\n",
    "best_config = optimizer.optimize()"
   ]
  },
  {
   "cell_type": "code",
   "execution_count": null,
   "id": "2d2388d7",
   "metadata": {},
   "outputs": [],
   "source": [
    "optimizer.validate(best_config)"
   ]
  },
  {
   "cell_type": "code",
   "execution_count": null,
   "id": "7e64d631",
   "metadata": {},
   "outputs": [],
   "source": [
    "best_config"
   ]
  },
  {
   "cell_type": "code",
   "execution_count": null,
   "id": "d36ec519",
   "metadata": {},
   "outputs": [],
   "source": [
    "pd.DataFrame(optimizer.intensifier.trajectory)"
   ]
  }
 ],
 "metadata": {
  "kernelspec": {
   "display_name": "Python 3 (ipykernel)",
   "language": "python",
   "name": "python3"
  },
  "language_info": {
   "codemirror_mode": {
    "name": "ipython",
    "version": 3
   },
   "file_extension": ".py",
   "mimetype": "text/x-python",
   "name": "python",
   "nbconvert_exporter": "python",
   "pygments_lexer": "ipython3"
  }
 },
 "nbformat": 4,
 "nbformat_minor": 5
}
