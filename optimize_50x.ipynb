{
 "cells": [
  {
   "cell_type": "code",
   "execution_count": null,
   "id": "aaed6d3c-a8b2-4579-ad00-ef4124a1932c",
   "metadata": {},
   "outputs": [],
   "source": [
    "from collections import namedtuple\n",
    "Args = namedtuple('Args', 'runcount_limit,output_directory,batch')\n",
    "args = Args(10000, None, False)"
   ]
  },
  {
   "cell_type": "code",
   "execution_count": null,
   "id": "4f70a219-4be4-45da-8f1f-5f79832f3c81",
   "metadata": {},
   "outputs": [],
   "source": [
    "from optimize import Optimizer\n",
    "\n",
    "optimizer = Optimizer('spdsim', n_events=20, event_size=10, n_noise_hits=35*50)\n",
    "best_config, history, trajectory, vtrain_history, vtest_history = optimizer.run(args, n_jobs=4)\n",
    "print(best_config.get_dictionary())"
   ]
  },
  {
   "cell_type": "code",
   "execution_count": null,
   "id": "2ea65d59-efc3-4628-8a2b-6ff397495442",
   "metadata": {},
   "outputs": [],
   "source": [
    "best_config"
   ]
  }
 ],
 "metadata": {
  "kernelspec": {
   "display_name": "Python 3 (ipykernel)",
   "language": "python",
   "name": "python3"
  },
  "language_info": {
   "codemirror_mode": {
    "name": "ipython",
    "version": 3
   },
   "file_extension": ".py",
   "mimetype": "text/x-python",
   "name": "python",
   "nbconvert_exporter": "python",
   "pygments_lexer": "ipython3"
  }
 },
 "nbformat": 4,
 "nbformat_minor": 5
}
