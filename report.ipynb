{
 "cells": [
  {
   "cell_type": "code",
   "execution_count": null,
   "id": "9594d941-7419-4215-8b5f-9bb17aa27eab",
   "metadata": {},
   "outputs": [],
   "source": [
    "import vispy\n",
    "# selecting sub-backend behind jupyter_rfb:\n",
    "# 1) pyglfw has high priority if present\n",
    "# 2) to use any other backend, install then designate as default\n",
    "# 4) use jupyter_rfb, it then selects the sub-backend according to config\n",
    "# 5) enable jupyterlab extensions for interactive widget provided by jupyter_rfb\n",
    "\n",
    "# only needed in jhub2, jhub and jlab-hpc can't run opengl at all, locally auto-selected backend is OK\n",
    "vispy.config.update(default_backend='egl')\n",
    "vispy.use('jupyter_rfb')"
   ]
  },
  {
   "cell_type": "code",
   "execution_count": null,
   "id": "a848273f-af14-44d6-9190-dc6c9d64bca1",
   "metadata": {},
   "outputs": [],
   "source": [
    "import numpy as np\n",
    "import pandas as pd\n",
    "import vispy\n",
    "from matplotlib import pyplot as plt\n",
    "\n",
    "from datasets import get_hits\n",
    "from tracking.plot import plot_event, plot_seg_diff, _seg_tseg_view\n",
    "from hopfield.plot import plot_result, _result_view\n",
    "from segment.track import gen_seg_track_layered\n",
    "from segment.candidate import gen_seg_layered\n",
    "from hopfield.energy import energy\n",
    "from hopfield.energy.cross import cross_energy_matrix\n",
    "from hopfield.energy.curvature import curvature_energy_matrix, segment_adjacent_pairs\n",
    "from hopfield.iterate import annealing_curve, hopfield_history, gen_perfect_act"
   ]
  },
  {
   "cell_type": "code",
   "execution_count": null,
   "id": "9baab61e-a975-4c29-a432-d4e4ea04e448",
   "metadata": {},
   "outputs": [],
   "source": [
    "N_EVENTS = 200\n",
    "NOISES = (0, 100, 50*35)\n",
    "config_100={'alpha': 19.6857149529666, 'bias': -0.31150606683750404, 'cooling_steps': 9, 'cosine_min_allowed': -0.9929937414803206,\n",
    "            'cosine_min_rewarded': 0.09703011610247317, 'cosine_power': 11.6462959878647, 'distance_power': 0.19013229061815848, 'dropout': 0,\n",
    "            'gamma': 12.528629082393694, 'initial_act': 0.09188054593810106, 'learning_rate': 0.2964621247552072, 'rest_steps': 0,\n",
    "            't_max': 6.986302071223637, 't_min': 1.0, 'threshold': 0.5}\n",
    "config_50x={'alpha': 4.766456909730726, 'bias': -1.5899727982927079, 'cooling_steps': 53, 'cosine_min_allowed': -0.37559678469140234,\n",
    "           'cosine_min_rewarded': 0.9977232547138374, 'cosine_power': 16.12619322582289, 'distance_power': 0.1481960766610274,\n",
    "           'dropout': 0, 'gamma': 9.827156643218887, 'initial_act': 0.7822536857072754, 'learning_rate': 0.41337726498711364,\n",
    "           'rest_steps': 14, 't_max': 45.4967596622952, 't_min': 1.0, 'threshold': 0.5}\n",
    "CONFIGS = (config_100, config_100, config_50x)"
   ]
  },
  {
   "cell_type": "code",
   "execution_count": null,
   "id": "47dcc831",
   "metadata": {},
   "outputs": [],
   "source": [
    "full_events = get_hits('spdsim', N_EVENTS, n_noise_hits=max(NOISES))\n",
    "full_events"
   ]
  },
  {
   "cell_type": "code",
   "execution_count": null,
   "id": "69522b93-be36-4ef8-a133-8c231f874bd9",
   "metadata": {},
   "outputs": [],
   "source": [
    "I = 1\n",
    "N_NOISE = NOISES[I]\n",
    "config = CONFIGS[I]\n",
    "locals().update(config)"
   ]
  },
  {
   "cell_type": "code",
   "execution_count": null,
   "id": "d2775fe6-dc9d-4591-8f10-6bf93eeda842",
   "metadata": {},
   "outputs": [],
   "source": [
    "def lower_noise(event, n_noise_hits):\n",
    "    return pd.concat([event[event.track != -1],\n",
    "                       event[event.track == -1].head(n_noise_hits)])\n",
    "\n",
    "events = full_events.groupby('event_id', group_keys=False).apply(lower_noise, N_NOISE)\n",
    "event = events[events.event_id==0]\n",
    "event"
   ]
  },
  {
   "cell_type": "code",
   "execution_count": null,
   "id": "ecea46f3-7215-4a66-85be-37350aa1a16b",
   "metadata": {},
   "outputs": [],
   "source": [
    "seg_canvas = vispy.scene.SceneCanvas(bgcolor='white', size=(200, 500))\n",
    "grid = seg_canvas.central_widget.add_grid()\n",
    "grid.add_widget(_seg_tseg_view(event, gen_seg_layered(event), gen_seg_track_layered(event),\n",
    "                              camera=vispy.scene.cameras.TurntableCamera(fov=20, scale_factor=2000)\n",
    "                              ), row=0, col=0)\n",
    "seg_canvas"
   ]
  },
  {
   "cell_type": "code",
   "execution_count": null,
   "id": "cb067fe6-e8c8-4194-8b50-8a39812cc0b4",
   "metadata": {},
   "outputs": [],
   "source": [
    "vispy.io.image.imsave(f'seg_{N_NOISE}_noise.png', seg_canvas.render())"
   ]
  },
  {
   "cell_type": "code",
   "execution_count": null,
   "id": "ed724dc2-28c1-48ad-a701-91db84c2ac9d",
   "metadata": {},
   "outputs": [],
   "source": [
    "pos = event[['x', 'y', 'z']].to_numpy()\n",
    "seg = gen_seg_layered(event)\n",
    "pairs = segment_adjacent_pairs(seg)\n",
    "crossing_matrix = cross_energy_matrix(seg)\n",
    "curvature_matrix = curvature_energy_matrix(\n",
    "    pos, seg, pairs, alpha=alpha, gamma=gamma,\n",
    "    cosine_threshold=cosine_min_rewarded, cosine_min_allowed=cosine_min_allowed,\n",
    "    curvature_cosine_power=cosine_power,\n",
    "    distance_prod_power_in_denominator=distance_power\n",
    ")\n",
    "energy_matrix = crossing_matrix + curvature_matrix\n",
    "temp_curve = annealing_curve(t_min, t_max, cooling_steps, rest_steps)\n",
    "starting_act = np.full(len(seg), initial_act)\n",
    "acts = hopfield_history(energy_matrix, temp_curve, starting_act, dropout, learning_rate, bias)"
   ]
  },
  {
   "cell_type": "code",
   "execution_count": null,
   "id": "9f1f7020-3054-4f1e-9f9d-797a192887bd",
   "metadata": {},
   "outputs": [],
   "source": [
    "positive = [act >= threshold for act in acts]"
   ]
  },
  {
   "cell_type": "code",
   "execution_count": null,
   "id": "c1011548-a70f-466d-a121-dbea856db684",
   "metadata": {},
   "outputs": [],
   "source": [
    "tseg = gen_seg_track_layered(event)\n",
    "len(seg), len(tseg)"
   ]
  },
  {
   "cell_type": "code",
   "execution_count": null,
   "id": "a782a0b4-fbcf-4af5-8975-4c0b4cf2ccae",
   "metadata": {},
   "outputs": [],
   "source": [
    "event_canvas = plot_event(event, tseg, fig_size=(900, 750),\n",
    "                         camera=vispy.scene.cameras.TurntableCamera(fov=0, scale_factor=2000))\n",
    "event_canvas"
   ]
  },
  {
   "cell_type": "code",
   "execution_count": null,
   "id": "c3d89809-4d37-46ca-a236-42f28c3720a7",
   "metadata": {},
   "outputs": [],
   "source": [
    "vispy.io.image.imsave(f'event_{N_NOISE}_noise.png', event_canvas.render())"
   ]
  },
  {
   "cell_type": "code",
   "execution_count": null,
   "id": "42073df0-78c4-4b48-9c72-4cb218abedae",
   "metadata": {},
   "outputs": [],
   "source": [
    "perfect_act = gen_perfect_act(seg, tseg)\n",
    "perfect_act"
   ]
  },
  {
   "cell_type": "code",
   "execution_count": null,
   "id": "d8b43a2c-2db4-4ca9-99fa-e42935bb816d",
   "metadata": {},
   "outputs": [],
   "source": [
    "tcdf = pd.DataFrame({'temp': temp_curve})\n",
    "tcdf.index.name = 'step'\n",
    "tcdf.plot()\n",
    "plt.savefig(f'temp_{N_NOISE}_noise_{N_EVENTS}_events.png')"
   ]
  },
  {
   "cell_type": "code",
   "execution_count": null,
   "id": "28e4bdfc-ab67-47f3-aea3-305e5719636a",
   "metadata": {},
   "outputs": [],
   "source": [
    "energy_history = pd.DataFrame({\n",
    "    'energy': [energy(energy_matrix, act) for act in acts],\n",
    "    'curvature_energy': [energy(curvature_matrix, act) for act in acts],\n",
    "    'crossing_energy': [energy(crossing_matrix, act) for act in acts]\n",
    "})\n",
    "energy_history.index.name = 'step'\n",
    "energy_history.energy = 1 + energy_history.energy - energy_history.energy.min()\n",
    "energy_history.plot(logy=True)\n",
    "plt.show()"
   ]
  },
  {
   "cell_type": "code",
   "execution_count": null,
   "id": "e8441470-381c-44c6-85ea-74331ff32696",
   "metadata": {},
   "outputs": [],
   "source": [
    "from sklearn.metrics import precision_score, recall_score, f1_score, roc_auc_score, average_precision_score\n",
    "perfect_act = gen_perfect_act(seg, tseg)\n",
    "small_history = pd.DataFrame([\n",
    "    (\n",
    "        precision_score(perfect_act, act > config['threshold'], zero_division=0),\n",
    "        recall_score(perfect_act, act > config['threshold'], zero_division=0),\n",
    "        f1_score(perfect_act, act > config['threshold'], zero_division=0),\n",
    "        roc_auc_score(perfect_act, act),\n",
    "        average_precision_score(perfect_act, act),\n",
    "        act.mean(),\n",
    "        ((act - perfect_act) ** 2).mean()\n",
    "    ) for act in acts],\n",
    "    columns=['precision', 'recall', 'f1', 'roc_auc', 'ap', 'mean_act', 'dist_perfect'])\n",
    "small_history.index.name = 'step'\n",
    "small_history.plot()\n",
    "plt.show()"
   ]
  },
  {
   "cell_type": "code",
   "execution_count": null,
   "id": "fz6M9X3H-jBm",
   "metadata": {},
   "outputs": [],
   "source": [
    "from sklearn.metrics import precision_recall_curve, PrecisionRecallDisplay, average_precision_score\n",
    "\n",
    "act = acts[-1]\n",
    "average_precision = average_precision_score(perfect_act, act)\n",
    "precision, recall, _ = precision_recall_curve(perfect_act, act)\n",
    "PrecisionRecallDisplay(precision=precision, recall=recall, average_precision=average_precision,\n",
    "                       estimator_name='hopfield').plot()\n",
    "plt.show()"
   ]
  },
  {
   "cell_type": "code",
   "execution_count": null,
   "id": "i6XG18fk-1DV",
   "metadata": {},
   "outputs": [],
   "source": [
    "from sklearn.metrics import roc_curve, RocCurveDisplay\n",
    "\n",
    "fpr, tpr, _ = roc_curve(perfect_act, act)\n",
    "RocCurveDisplay(fpr=fpr, tpr=tpr, roc_auc=roc_auc_score(perfect_act, act), estimator_name='hopfield').plot()\n",
    "plt.show()"
   ]
  },
  {
   "cell_type": "code",
   "execution_count": null,
   "id": "w6LdIfRl_Hzu",
   "metadata": {},
   "outputs": [],
   "source": [
    "from sklearn.metrics import det_curve, DetCurveDisplay\n",
    "\n",
    "fpr, fnr, _ = det_curve(perfect_act, act)\n",
    "DetCurveDisplay(fpr=fpr, fnr=fnr).plot()\n",
    "plt.show()"
   ]
  },
  {
   "cell_type": "code",
   "execution_count": null,
   "id": "80d4b17d-41ae-41a1-984e-1705bc622b1b",
   "metadata": {},
   "outputs": [],
   "source": [
    "result_canvas = vispy.scene.SceneCanvas(bgcolor='white', size=(300, 750))\n",
    "positives = [act >= threshold for act in acts]\n",
    "result_canvas.central_widget.add_widget(\n",
    "    _result_view(event, seg, acts[-1], perfect_act, positives[-1], \n",
    "                 camera=vispy.scene.cameras.TurntableCamera(fov=20, scale_factor=2000))\n",
    ")    \n",
    "result_canvas"
   ]
  },
  {
   "cell_type": "code",
   "execution_count": null,
   "id": "1983d600-b086-4432-b1fd-d521137e3110",
   "metadata": {},
   "outputs": [],
   "source": [
    "vispy.io.image.imsave(f'result_{N_NOISE}_noise.png', result_canvas.render())"
   ]
  },
  {
   "cell_type": "code",
   "execution_count": null,
   "id": "f9b7e422-1bb7-4001-b0d0-031642b9619b",
   "metadata": {},
   "outputs": [],
   "source": [
    "from datasets import get_hits\n",
    "from hopfield import iterate\n",
    "from metrics.tracks import track_metrics\n",
    "from tqdm import tqdm\n",
    "tqdm.pandas()\n",
    "\n",
    "def evaluate(event):\n",
    "    event = event.reset_index(drop=True)\n",
    "    seg, acts, positives = iterate.run(event, **config)\n",
    "    tseg = gen_seg_track_layered(event)\n",
    "    score = track_metrics(event, seg, tseg, acts[-1], positives[-1])\n",
    "    score['total_steps'] = config['cooling_steps'] + config['rest_steps']\n",
    "    score['trackml_loss'] = 1. - score['trackml']\n",
    "    return pd.Series(score, dtype=object)\n",
    "\n",
    "events = get_hits('spdsim', N_EVENTS, n_noise_hits=N_NOISE)\n",
    "stats = events.groupby('event_id').progress_apply(evaluate)\n",
    "stats\n"
   ]
  },
  {
   "cell_type": "code",
   "execution_count": null,
   "id": "e864ddb3-7010-48e5-a86e-6606823ee8c2",
   "metadata": {},
   "outputs": [],
   "source": [
    "stats.hist('n_fp_seg', bins=20, range=(0,40))\n",
    "plt.savefig(f'n_fp_{N_NOISE}_noise_{N_EVENTS}_events.png')"
   ]
  },
  {
   "cell_type": "code",
   "execution_count": null,
   "id": "ea3c500b-d7f7-45ab-9700-6021b65ef8e8",
   "metadata": {},
   "outputs": [],
   "source": [
    "stats.hist('trackml', bins=20, range=(0,1))\n",
    "plt.savefig(f'trackml_{N_NOISE}_noise_{N_EVENTS}_events.png')"
   ]
  },
  {
   "cell_type": "code",
   "execution_count": null,
   "id": "5622dc21-8ccb-4f2c-8d0f-c99db9f99251",
   "metadata": {},
   "outputs": [],
   "source": [
    "# stats.hist('false tracks', bins=20)\n",
    "# plt.savefig(f'false_{N_NOISE}_noise_{N_EVENTS}_events.png')"
   ]
  },
  {
   "cell_type": "code",
   "execution_count": null,
   "id": "586cf379-1c9c-4dce-86aa-baaaf3f0fdea",
   "metadata": {},
   "outputs": [],
   "source": [
    "# stats.hist('missed tracks', bins=20)\n",
    "# plt.savefig(f'missed_{N_NOISE}_noise_{N_EVENTS}_events.png')"
   ]
  },
  {
   "cell_type": "code",
   "execution_count": null,
   "id": "456a6fbd-be16-42cd-aad4-0d7d7195bc97",
   "metadata": {},
   "outputs": [],
   "source": [
    "# import seaborn as sns\n",
    "# sns.relplot(stats, x='trackml_loss', y='false positive segments',\n",
    "#             hue='missed tracks', palette=sns.color_palette(),\n",
    "#             style='false tracks')\n",
    "# plt.savefig(f'rel_{N_NOISE}_noise_{N_EVENTS}_events.png')"
   ]
  },
  {
   "cell_type": "code",
   "execution_count": null,
   "id": "3d579276-af1c-40af-84c1-558b846e8a3c",
   "metadata": {},
   "outputs": [],
   "source": [
    "# import seaborn as sns\n",
    "# sns.catplot(stats, kind='strip', orient='h',\n",
    "#             x='trackml score', y='false tracks',\n",
    "#             hue='missed tracks', palette=sns.color_palette())\n",
    "# plt.savefig(f'cat_{N_NOISE}_noise_{N_EVENTS}_events.png')"
   ]
  },
  {
   "cell_type": "code",
   "execution_count": null,
   "id": "2c5d7ec5-1e5c-422b-8fe2-8b588958894d",
   "metadata": {},
   "outputs": [],
   "source": [
    "# (stats['missed tracks']==0).sum() / stats['missed tracks'].count()"
   ]
  }
 ],
 "metadata": {
  "colab": {
   "collapsed_sections": [],
   "name": " \"AOC_hopfield-tracking-bmn-event6-from-git\"",
   "provenance": []
  },
  "kernelspec": {
   "display_name": "Python 3.10 (hopfield-tracking)",
   "language": "python",
   "name": "hopfield-tracking"
  },
  "language_info": {
   "codemirror_mode": {
    "name": "ipython",
    "version": 3
   },
   "file_extension": ".py",
   "mimetype": "text/x-python",
   "name": "python",
   "nbconvert_exporter": "python",
   "pygments_lexer": "ipython3"
  }
 },
 "nbformat": 4,
 "nbformat_minor": 5
}
