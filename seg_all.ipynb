{
 "cells": [
  {
   "cell_type": "markdown",
   "id": "7b5ca115",
   "metadata": {},
   "source": [
    "## Realistic events are big\n",
    "- n hits produce n² segments\n",
    "- trackml has 1e5 hits per event\n",
    "- 1e10 does not fit"
   ]
  },
  {
   "cell_type": "code",
   "execution_count": null,
   "id": "34068f34",
   "metadata": {},
   "outputs": [],
   "source": [
    "from segment.candidate import gen_seg_layered, gen_seg_all\n",
    "from datasets import bman, trackml\n",
    "import pandas as pd"
   ]
  },
  {
   "cell_type": "code",
   "execution_count": null,
   "id": "4ccf7607",
   "metadata": {},
   "outputs": [],
   "source": [
    "event = trackml.get_one_event_by_volume()\n",
    "len(event)"
   ]
  },
  {
   "cell_type": "code",
   "execution_count": null,
   "id": "866efad6",
   "metadata": {},
   "outputs": [],
   "source": [
    "%time seg = gen_seg_layered(event)\n",
    "print(f'{len(seg):_}')\n",
    "pd.DataFrame(seg).info()"
   ]
  },
  {
   "cell_type": "code",
   "execution_count": null,
   "id": "31b8a95d",
   "metadata": {},
   "outputs": [],
   "source": [
    "%time seg = gen_seg_all(event)\n",
    "print(f'{len(seg):_}')\n",
    "pd.DataFrame(seg).info()"
   ]
  },
  {
   "cell_type": "code",
   "execution_count": null,
   "id": "c62672b1",
   "metadata": {},
   "outputs": [],
   "source": [
    "event = trackml.get_one_event()\n",
    "len(event)"
   ]
  },
  {
   "cell_type": "code",
   "execution_count": null,
   "id": "41406ebb",
   "metadata": {},
   "outputs": [],
   "source": [
    "%time seg = gen_seg_layered(event.iloc[:40000])\n",
    "print(f'{len(seg):_}')\n",
    "pd.DataFrame(seg).info()\n",
    "del seg"
   ]
  },
  {
   "cell_type": "markdown",
   "id": "4a077c5a",
   "metadata": {},
   "source": [
    "## try dask?"
   ]
  },
  {
   "cell_type": "code",
   "execution_count": null,
   "id": "e3766fd1",
   "metadata": {},
   "outputs": [],
   "source": [
    "import logging\n",
    "\n",
    "import dask\n",
    "from dask.distributed import Client\n",
    "from dask import dataframe as dd, array as da\n",
    "import numpy as np\n",
    "import pandas as pd\n",
    "client = Client(n_workers=1, threads_per_worker=2, processes=False,\n",
    "                memory_limit='1GB', silence_logs=logging.ERROR)\n",
    "client"
   ]
  },
  {
   "cell_type": "code",
   "execution_count": null,
   "id": "6afea187",
   "metadata": {},
   "outputs": [],
   "source": [
    "from datasets import bman, trackml\n",
    "event = trackml.get_one_event()\n",
    "len(event)"
   ]
  },
  {
   "cell_type": "code",
   "execution_count": null,
   "id": "08cd00ca",
   "metadata": {},
   "outputs": [],
   "source": [
    "chunks = [*range(0, len(event), 6000), len(event)]\n",
    "chunks = list(zip(chunks[:-1], chunks[1:]))"
   ]
  },
  {
   "cell_type": "code",
   "execution_count": null,
   "id": "143de4e6",
   "metadata": {},
   "outputs": [],
   "source": [
    "pos = event[['x', 'y', 'z']].to_numpy()"
   ]
  },
  {
   "cell_type": "code",
   "execution_count": null,
   "id": "47d33cbe",
   "metadata": {},
   "outputs": [],
   "source": [
    "from numba import njit, prange\n",
    "\n",
    "@njit(parallel=True)\n",
    "def dist_chunk(a, b, pos):\n",
    "    x, y, z = pos[:, 0], pos[:, 1], pos[:, 2]\n",
    "    da, db = a[1] - a[0], b[1] - b[0]\n",
    "    result = np.empty((da, db), np.single)\n",
    "    for i in prange(da):\n",
    "        for j in prange(db):\n",
    "            ii, jj = a[0] + i, b[0] + j\n",
    "            result[i, j] = np.sqrt((x[ii] - x[jj])**2 + \n",
    "                                   (y[ii] - y[jj])**2 +\n",
    "                                   (z[ii] - z[jj])**2)\n",
    "    return result.ravel()\n",
    "%timeit dist_chunk(chunks[0], chunks[1], pos)"
   ]
  },
  {
   "cell_type": "code",
   "execution_count": null,
   "id": "f8c0d1e3",
   "metadata": {},
   "outputs": [],
   "source": [
    "delayed_pos = dask.delayed(pos)\n",
    "dist = da.concatenate([\n",
    "    da.from_delayed(\n",
    "        dask.delayed(dist_chunk)(a, b, delayed_pos),\n",
    "        shape=((a[1] - a[0]) * (b[1] - b[0]),),\n",
    "        dtype=np.single\n",
    "    ) for a in chunks for b in chunks\n",
    "])\n",
    "dist"
   ]
  },
  {
   "cell_type": "code",
   "execution_count": null,
   "id": "c8f23ef6",
   "metadata": {},
   "outputs": [],
   "source": [
    "%time dist.max().compute()"
   ]
  },
  {
   "cell_type": "code",
   "execution_count": null,
   "id": "085eb70b",
   "metadata": {},
   "outputs": [],
   "source": [
    "hist, bins = da.histogram(dist, bins=64, range=(0, 6500))\n",
    "hist"
   ]
  },
  {
   "cell_type": "code",
   "execution_count": null,
   "id": "c8d8eced",
   "metadata": {},
   "outputs": [],
   "source": [
    "h = hist.compute()"
   ]
  },
  {
   "cell_type": "code",
   "execution_count": null,
   "id": "b99ea85a",
   "metadata": {},
   "outputs": [],
   "source": [
    "from matplotlib import pyplot as plt\n",
    "plt.hist(bins[:-1], bins, weights=h)\n",
    "pass"
   ]
  },
  {
   "cell_type": "code",
   "execution_count": null,
   "id": "17363009",
   "metadata": {},
   "outputs": [],
   "source": [
    "from matplotlib import pyplot as plt\n",
    "plt.hist(bins[:-1], bins, weights=h, cumulative=True)\n",
    "pass"
   ]
  },
  {
   "cell_type": "code",
   "execution_count": null,
   "id": "d7301060",
   "metadata": {},
   "outputs": [],
   "source": [
    "from matplotlib import pyplot as plt\n",
    "plt.hist(bins[:-1], bins, weights=np.cumsum(h))\n",
    "pass"
   ]
  },
  {
   "cell_type": "markdown",
   "id": "c4b9105a",
   "metadata": {},
   "source": [
    " now we can estimate how many segments will remain after a possible length cut"
   ]
  }
 ],
 "metadata": {
  "kernelspec": {
   "display_name": "Python 3.10 (hopfield-tracking)",
   "language": "python",
   "name": "hopfield-tracking"
  },
  "language_info": {
   "codemirror_mode": {
    "name": "ipython",
    "version": 3
   },
   "file_extension": ".py",
   "mimetype": "text/x-python",
   "name": "python",
   "nbconvert_exporter": "python",
   "pygments_lexer": "ipython3"
  }
 },
 "nbformat": 4,
 "nbformat_minor": 5
}
