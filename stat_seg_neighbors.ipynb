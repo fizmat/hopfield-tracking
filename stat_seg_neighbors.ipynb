{
 "cells": [
  {
   "cell_type": "markdown",
   "id": "bf227350",
   "metadata": {},
   "source": [
    "#### Requirements\n",
    "1. bman dataset - place the dataset in \"./data/bman\" without unzipping the archive\n",
    "2. trackml dataset - place the files in \"./data/trackml\" without unzipping the archives"
   ]
  },
  {
   "cell_type": "code",
   "execution_count": null,
   "id": "71f254e8-8f87-4a17-81a1-56c18c68296b",
   "metadata": {},
   "outputs": [],
   "source": [
    "from datasets import get_hits\n",
    "from segment.plot_stat import plot_stat_seg_neighbors\n",
    "import os"
   ]
  },
  {
   "cell_type": "code",
   "execution_count": 2,
   "id": "a2bba707-d6a4-46bf-bcf1-14a70e08e825",
   "metadata": {},
   "outputs": [],
   "source": [
    "import seaborn as sns\n",
    "sns.set(rc={'figure.figsize':(14, 8)})"
   ]
  },
  {
   "cell_type": "code",
   "execution_count": 27,
   "id": "b1929995",
   "metadata": {},
   "outputs": [],
   "source": [
    "if (not os.path.isfile('./data/bman/simdata_ArPb_3.2AGeV_mb_1.zip')):\n",
    "    raise SystemExit('bman dataset is required')\n",
    "if (not os.path.isfile('./data/trackml/blacklist_training.zip')):\n",
    "    raise SystemExit('trackml dataset is required')\n",
    "if (not os.path.isfile('./data/trackml/train_sample.zip')):\n",
    "    raise SystemExit('trackml dataset is required')"
   ]
  },
  {
   "cell_type": "code",
   "execution_count": null,
   "id": "7c478e63-c6f2-42a3-88f2-5545a5a44f72",
   "metadata": {},
   "outputs": [],
   "source": [
    "hits = get_hits('simple', 200)\n",
    "plot_stat_seg_neighbors(hits)"
   ]
  },
  {
   "cell_type": "code",
   "execution_count": null,
   "id": "1cc761c9-eac6-4cbd-9706-29f8c93f8e89",
   "metadata": {},
   "outputs": [],
   "source": [
    "hits = get_hits('spdsim', 200)\n",
    "plot_stat_seg_neighbors(hits)"
   ]
  },
  {
   "cell_type": "code",
   "execution_count": null,
   "id": "f7970ce4-a27d-4176-92b6-4711f260d34a",
   "metadata": {},
   "outputs": [],
   "source": [
    "hits = get_hits('bman', 100)\n",
    "plot_stat_seg_neighbors(hits)"
   ]
  },
  {
   "cell_type": "code",
   "execution_count": null,
   "id": "820d4774-fd27-4b83-8094-b455af3a56a8",
   "metadata": {},
   "outputs": [],
   "source": [
    "hits = get_hits('trackml_volume', 24)\n",
    "plot_stat_seg_neighbors(hits)"
   ]
  },
  {
   "cell_type": "code",
   "execution_count": null,
   "id": "ee724ae2-b800-4619-a141-f541aee9984c",
   "metadata": {},
   "outputs": [],
   "source": [
    "hits = get_hits('trackml', 1)\n",
    "plot_stat_seg_neighbors(hits)"
   ]
  }
 ],
 "metadata": {
  "kernelspec": {
   "display_name": "Python 3.9.12 ('base')",
   "language": "python",
   "name": "python3"
  },
  "language_info": {
   "codemirror_mode": {
    "name": "ipython",
    "version": 3
   },
   "file_extension": ".py",
   "mimetype": "text/x-python",
   "name": "python",
   "nbconvert_exporter": "python",
   "pygments_lexer": "ipython3",
   "version": "3.9.12"
  },
  "vscode": {
   "interpreter": {
    "hash": "19d1d53a962d236aa061289c2ac16dc8e6d9648c89fe79f459ae9a3493bc67b4"
   }
  }
 },
 "nbformat": 4,
 "nbformat_minor": 5
}
