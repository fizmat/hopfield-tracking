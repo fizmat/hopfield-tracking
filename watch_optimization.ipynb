{
 "cells": [
  {
   "cell_type": "code",
   "execution_count": null,
   "id": "e2d16fd5-81c0-45f0-88d4-8cf40bac3bd9",
   "metadata": {},
   "outputs": [],
   "source": [
    "import glob\n",
    "from pathlib import Path\n",
    "import pandas as pd\n",
    "\n",
    "runs = pd.DataFrame({'run': glob.glob('smac3-output*/run*')}).sort_values('run').reset_index(drop=True)\n",
    "runs"
   ]
  },
  {
   "cell_type": "code",
   "execution_count": null,
   "id": "cdd49917-e760-4a28-8950-f966e172eca0",
   "metadata": {},
   "outputs": [],
   "source": [
    "runs['start'] = pd.to_datetime(\n",
    "    runs.run\\\n",
    "        .str.partition('/')[0]\\\n",
    "        .str.removeprefix('smac3-output_')\\\n",
    "        .str.rpartition('_')[0]\\\n",
    "        .str.replace('_', 'T'),\n",
    "    format='ISO8601'\n",
    ")\n",
    "runs.run = runs.run.map(Path)\n",
    "runs"
   ]
  },
  {
   "cell_type": "code",
   "execution_count": null,
   "id": "e32088d6-c04d-4455-851f-1ae57feda5b9",
   "metadata": {},
   "outputs": [],
   "source": [
    "import json\n",
    "stats = pd.DataFrame(json.load((r / 'stats.json').open()) for r in runs.run)\n",
    "stats"
   ]
  },
  {
   "cell_type": "code",
   "execution_count": null,
   "id": "cd5194a6-c8c8-46f2-a015-627bbebdc373",
   "metadata": {},
   "outputs": [],
   "source": [
    "df = runs.join(stats)"
   ]
  },
  {
   "cell_type": "code",
   "execution_count": null,
   "id": "e8e67a2e-6eb2-455a-badc-623c07a72985",
   "metadata": {},
   "outputs": [],
   "source": [
    "import shutil\n",
    "def remove_unfinished_runs(df):\n",
    "    old = df.iloc[:-1]  # the latest run can still be in progress, exclude it\n",
    "    for r in old[old.submitted_ta_runs != old.finished_ta_runs].run:\n",
    "        shutil.rmtree(r)"
   ]
  },
  {
   "cell_type": "code",
   "execution_count": null,
   "id": "dbf13625-9c57-4fe4-a9f1-976ce52572ad",
   "metadata": {},
   "outputs": [],
   "source": [
    "df = df[df.finished_ta_runs == 10_000].set_index('run')\n",
    "df"
   ]
  },
  {
   "cell_type": "code",
   "execution_count": null,
   "id": "a6600acb-213d-4250-be34-25afff129377",
   "metadata": {},
   "outputs": [],
   "source": [
    "import json\n",
    "best = pd.DataFrame(\n",
    "    pd.read_json((r / 'traj.json'), lines=True).iloc[-1]\n",
    "    for r in df.index)\n",
    "best.index=df.index\n",
    "result = df.join(best).set_index('start').drop(columns=['submitted_ta_runs', 'finished_ta_runs'])\n",
    "result\n"
   ]
  },
  {
   "cell_type": "code",
   "execution_count": null,
   "id": "0890b90a-ca30-4e4d-a9d8-a807123bf61f",
   "metadata": {},
   "outputs": [],
   "source": [
    "for incumbent in result.incumbent:\n",
    "    print(incumbent)"
   ]
  }
 ],
 "metadata": {
  "kernelspec": {
   "display_name": "Python 3 (ipykernel)",
   "language": "python",
   "name": "python3"
  },
  "language_info": {
   "codemirror_mode": {
    "name": "ipython",
    "version": 3
   },
   "file_extension": ".py",
   "mimetype": "text/x-python",
   "name": "python",
   "nbconvert_exporter": "python",
   "pygments_lexer": "ipython3"
  }
 },
 "nbformat": 4,
 "nbformat_minor": 5
}
